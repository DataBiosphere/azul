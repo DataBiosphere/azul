{
 "cells": [
  {
   "cell_type": "markdown",
   "id": "hawaiian-chassis",
   "metadata": {},
   "source": [
    "This notebook will demonstrate the process of making a request to the Azul [/index/projects](https://service.azul.data.humancellatlas.org/#/Index/get_index_projects__project_id_) endpoint for a single project and downloadiing all the project level matrix files contained within the response."
   ]
  },
  {
   "cell_type": "markdown",
   "id": "incorporated-economy",
   "metadata": {},
   "source": [
    "The first step will be to import the modules we'll need for this notebook.\n",
    "\n",
    "If any of these modules are not installed on your system / virtual environment they can be installed using the command `python -m pip install {module_name}` in your terminal."
   ]
  },
  {
   "cell_type": "code",
   "execution_count": 1,
   "id": "painful-mandate",
   "metadata": {},
   "outputs": [],
   "source": [
    "import requests\n",
    "import os\n",
    "from tqdm import tqdm"
   ]
  },
  {
   "cell_type": "markdown",
   "id": "fluid-factory",
   "metadata": {},
   "source": [
    "The following function downloads a file from a given url and saves the file to the given output path. This will be used to download the individual matrix files."
   ]
  },
  {
   "cell_type": "code",
   "execution_count": 2,
   "id": "painful-monitoring",
   "metadata": {},
   "outputs": [],
   "source": [
    "def download_file(url, output_path):\n",
    "    url = url.replace('/fetch', '')  # Work around https://github.com/DataBiosphere/azul/issues/2908\n",
    "    \n",
    "    response = requests.get(url, stream=True)\n",
    "    response.raise_for_status()\n",
    "    \n",
    "    total = int(response.headers.get('content-length', 0))\n",
    "    print(f'Downloading to: {output_path}', flush=True)\n",
    "    \n",
    "    with open(output_path, 'wb') as f:\n",
    "        with tqdm(total=total, unit='B', unit_scale=True, unit_divisor=1024) as bar:\n",
    "            for chunk in response.iter_content(chunk_size=1024):\n",
    "                size = f.write(chunk)\n",
    "                bar.update(size)"
   ]
  },
  {
   "cell_type": "markdown",
   "id": "given-canada",
   "metadata": {},
   "source": [
    "Matrices are included in the Azul [/index/projects](https://service.azul.data.humancellatlas.org/#/Index/get_index_projects__project_id_) endpoint response as a JSON tree structure with the keys indicating the stratification of each matrix file. An abridged example of what this tree might look can be seen here:\n",
    "\n",
    "```\n",
    "{\n",
    "    \"genusSpecies\": {\n",
    "        \"Homo sapiens\": {\n",
    "            \"developmentStage\": {\n",
    "                \"adult\": {\n",
    "                    \"libraryConstructionApproach\": {\n",
    "                        \"10X v2 sequencing\": {\n",
    "                            \"organ\": {\n",
    "                                \"blood\": [\n",
    "                                    {\n",
    "                                        \"size\": 2377128,\n",
    "                                        \"name\": \"TCellActivation-Blood-10x_cell_type_2020-03-11.csv\",\n",
    "                                        \"source\": \"HCA Release\",\n",
    "                                        \"uuid\": \"237538e6-7f05-5e56-a47d-01cdfd136a7e\",\n",
    "                                        \"version\": \"2020-11-20T09:03:11.285229Z\",\n",
    "                                        \"url\": \"https://...\"\n",
    "                                    }\n",
    "                                ],\n",
    "                                \"lung\": [\n",
    "                                    {\n",
    "                                        \"size\": 1460428,\n",
    "                                        \"name\": \"TCellActivation-lung-10x_cell_type_2020-03-11.csv\",\n",
    "                                        \"source\": \"HCA Release\",\n",
    "                                        \"uuid\": \"978eb768-f27a-5a68-9e5d-155b3f35ff95\",\n",
    "                                        \"version\": \"2020-11-20T09:03:11.285229Z\",\n",
    "                                        \"url\": \"https://...\"\n",
    "                                    }\n",
    "                                ]\n",
    "                            }\n",
    "                        }\n",
    "                    }\n",
    "                }\n",
    "            }\n",
    "        }\n",
    "    }\n",
    "}\n",
    "```"
   ]
  },
  {
   "cell_type": "markdown",
   "id": "potential-explorer",
   "metadata": {},
   "source": [
    "The following function will recursively traverse a matrices tree and yield the leaf nodes which contain the details for each matrix file (e.g. file name, url, size)"
   ]
  },
  {
   "cell_type": "code",
   "execution_count": 3,
   "id": "proper-joining",
   "metadata": {},
   "outputs": [],
   "source": [
    "def iterate_matrices_tree(tree, keys=()):\n",
    "    if isinstance(tree, dict):\n",
    "        for k, v in tree.items():\n",
    "            yield from iterate_matrices_tree(v, keys=(*keys, k))\n",
    "    elif isinstance(tree, list):\n",
    "        for file in tree:\n",
    "            yield keys, file\n",
    "    else:\n",
    "        assert False"
   ]
  },
  {
   "cell_type": "markdown",
   "id": "whole-radar",
   "metadata": {},
   "source": [
    "Now it is time to set the configuration variables. Change these values as needed to specify the UUID of the desired project, the catalog containing the project, the local path to save the downloaded files, and the URL of the projects service endpoint."
   ]
  },
  {
   "cell_type": "code",
   "execution_count": 4,
   "id": "residential-techno",
   "metadata": {},
   "outputs": [],
   "source": [
    "project_uuid = '4a95101c-9ffc-4f30-a809-f04518a23803'\n",
    "catalog = 'dcp2'\n",
    "endpoint_url = f'https://service.azul.data.humancellatlas.org/index/projects/{project_uuid}'\n",
    "\n",
    "save_location = '/tmp'"
   ]
  },
  {
   "cell_type": "markdown",
   "id": "affiliated-warrant",
   "metadata": {},
   "source": [
    "Finally, this block of code puts everything together by making the request for the project entity metadata and downloading each matrix file contained within.\n",
    "\n",
    "Because it is posssible for a matrix file to be included multiple times in the projects response (each occurance with different stratification information), a list of downloaded URLs is maintained to prevent downloading from any URL more than once."
   ]
  },
  {
   "cell_type": "code",
   "execution_count": 5,
   "id": "foster-sheffield",
   "metadata": {},
   "outputs": [
    {
     "name": "stdout",
     "output_type": "stream",
     "text": [
      "Downloading to: /tmp/4a95101c-9ffc-4f30-a809-f04518a23803.TCellActivation-Blood-10x_cell_type_2020-03-11.csv\n"
     ]
    },
    {
     "name": "stderr",
     "output_type": "stream",
     "text": [
      "100%|██████████| 2.27M/2.27M [00:00<00:00, 9.97MB/s]\n"
     ]
    },
    {
     "name": "stdout",
     "output_type": "stream",
     "text": [
      "Downloading to: /tmp/4a95101c-9ffc-4f30-a809-f04518a23803.GSE126030_RAW.tar\n"
     ]
    },
    {
     "name": "stderr",
     "output_type": "stream",
     "text": [
      "100%|██████████| 111M/111M [00:08<00:00, 14.4MB/s] \n"
     ]
    },
    {
     "name": "stdout",
     "output_type": "stream",
     "text": [
      "Downloading to: /tmp/4a95101c-9ffc-4f30-a809-f04518a23803.TCellActivation-lymph-node-10x_cell_type_2020-03-11.csv\n"
     ]
    },
    {
     "name": "stderr",
     "output_type": "stream",
     "text": [
      "100%|██████████| 2.12M/2.12M [00:00<00:00, 8.08MB/s]\n"
     ]
    },
    {
     "name": "stdout",
     "output_type": "stream",
     "text": [
      "Downloading to: /tmp/4a95101c-9ffc-4f30-a809-f04518a23803.TCellActivation-lung-10x_cell_type_2020-03-11.csv\n"
     ]
    },
    {
     "name": "stderr",
     "output_type": "stream",
     "text": [
      "100%|██████████| 1.39M/1.39M [00:00<00:00, 7.15MB/s]\n"
     ]
    },
    {
     "name": "stdout",
     "output_type": "stream",
     "text": [
      "Downloading to: /tmp/4a95101c-9ffc-4f30-a809-f04518a23803.TCellActivation-bone-marrow-10x_cell_type_2020-03-11.csv\n"
     ]
    },
    {
     "name": "stderr",
     "output_type": "stream",
     "text": [
      "100%|██████████| 875k/875k [00:00<00:00, 5.66MB/s]"
     ]
    },
    {
     "name": "stdout",
     "output_type": "stream",
     "text": [
      "Downloads Complete.\n"
     ]
    },
    {
     "name": "stderr",
     "output_type": "stream",
     "text": [
      "\n"
     ]
    }
   ],
   "source": [
    "response = requests.get(endpoint_url, params={'catalog': catalog})\n",
    "response.raise_for_status()\n",
    "\n",
    "response_json = response.json()\n",
    "project = response_json['projects'][0]\n",
    "\n",
    "file_urls = set()\n",
    "for key in ('matrices', 'contributedAnalyses'):\n",
    "    tree = project[key]\n",
    "    for path, file_info in iterate_matrices_tree(tree):\n",
    "        url = file_info['url']\n",
    "        if url not in file_urls:\n",
    "            dest_path = os.path.join(save_location, file_info['name'])\n",
    "            download_file(url, dest_path)\n",
    "            file_urls.add(url)\n",
    "print('Downloads Complete.')"
   ]
  },
  {
   "cell_type": "code",
   "execution_count": null,
   "id": "cognitive-carry",
   "metadata": {},
   "outputs": [],
   "source": []
  }
 ],
 "metadata": {
  "kernelspec": {
   "display_name": "Python 3",
   "language": "python",
   "name": "python3"
  },
  "language_info": {
   "codemirror_mode": {
    "name": "ipython",
    "version": 3
   },
   "file_extension": ".py",
   "mimetype": "text/x-python",
   "name": "python",
   "nbconvert_exporter": "python",
   "pygments_lexer": "ipython3",
   "version": "3.8.2"
  }
 },
 "nbformat": 4,
 "nbformat_minor": 5
}
