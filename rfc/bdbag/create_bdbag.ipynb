{
 "cells": [
  {
   "cell_type": "markdown",
   "metadata": {},
   "source": [
    "## Create a BDBag with `participant.tsv` and `sample.tsv` in its data directory, upload to S3, and return signed URL"
   ]
  },
  {
   "cell_type": "code",
   "execution_count": 60,
   "metadata": {},
   "outputs": [],
   "source": [
    "import os\n",
    "import bagit\n",
    "from shutil import rmtree, copy\n",
    "from zipfile import ZipFile, ZIP_DEFLATED"
   ]
  },
  {
   "cell_type": "markdown",
   "metadata": {},
   "source": [
    "In order to upload data to a FireCloud workspace we need two files, named `participant.tsv` and `sample.tsv`. The first holds a unique list of donor UUIDs, and the second a the same donor UUIDs with their corresponding specimen UUIDs. The values in these two columns of the table are the composite primary key. The third column holds cell-suspension UUIDs, followed by other columns which I copied from the manifest downloaded from the Explorer of the HCA browser."
   ]
  },
  {
   "cell_type": "code",
   "execution_count": 61,
   "metadata": {},
   "outputs": [],
   "source": [
    "bag_name = 'hca_manifest'  # the name of the BDBag\n",
    "if os.path.isdir(bag_name):\n",
    "    rmtree(bag_name)\n",
    "os.mkdir(bag_name)\n",
    "bag = bagit.make_bag(bag_name, {'info': 'some info'})  # use bagit module to create a bag instance\n",
    "# Create list of files to be copied into the data directory of the bag.\n",
    "files = list(filter(lambda x: x.endswith('.tsv'), os.listdir()))\n",
    "for file in files:\n",
    "    copy(file, os.path.join(bag_name, 'data'))\n",
    "assert ['participant.tsv', 'sample.tsv'] == os.listdir(os.path.join(bag_name, 'data'))"
   ]
  },
  {
   "cell_type": "code",
   "execution_count": 62,
   "metadata": {},
   "outputs": [],
   "source": [
    "bag.save(manifests=True)  # save bag\n",
    "assert bag.is_valid()"
   ]
  },
  {
   "cell_type": "markdown",
   "metadata": {},
   "source": [
    "Method to create a zip-file from a directory.\n",
    "(See: https://stackoverflow.com/questions/1855095/how-to-create-a-zip-archive-of-a-directory)"
   ]
  },
  {
   "cell_type": "code",
   "execution_count": 63,
   "metadata": {},
   "outputs": [],
   "source": [
    "def zipdir(path, ziph):\n",
    "    # ziph is zipfile handle\n",
    "    for root, dirs, files in os.walk(path):\n",
    "        for file in files:\n",
    "            ziph.write(os.path.join(root, file))"
   ]
  },
  {
   "cell_type": "code",
   "execution_count": 64,
   "metadata": {},
   "outputs": [],
   "source": [
    "zipf = ZipFile('manifest_bag.zip', 'w', ZIP_DEFLATED)\n",
    "zipdir(bag_name, zipf)\n",
    "assert ZipFile.testzip(zipf) == None  # if true, arc contains no \"bad\" files\n",
    "zipf.close()"
   ]
  },
  {
   "cell_type": "code",
   "execution_count": null,
   "metadata": {},
   "outputs": [],
   "source": []
  }
 ],
 "metadata": {
  "kernelspec": {
   "display_name": ".venv",
   "language": "python",
   "name": ".venv"
  },
  "language_info": {
   "codemirror_mode": {
    "name": "ipython",
    "version": 3
   },
   "file_extension": ".py",
   "mimetype": "text/x-python",
   "name": "python",
   "nbconvert_exporter": "python",
   "pygments_lexer": "ipython3",
   "version": "3.6.6"
  }
 },
 "nbformat": 4,
 "nbformat_minor": 2
}
