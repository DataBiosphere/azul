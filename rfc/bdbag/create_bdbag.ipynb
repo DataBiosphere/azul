{
 "cells": [
  {
   "cell_type": "markdown",
   "metadata": {},
   "source": [
    "## Create a BDBag with `participant.tsv` and `sample.tsv` in its data directory"
   ]
  },
  {
   "cell_type": "code",
   "execution_count": 5,
   "metadata": {},
   "outputs": [],
   "source": [
    "import os\n",
    "import bagit\n",
    "from shutil import rmtree, copy"
   ]
  },
  {
   "cell_type": "markdown",
   "metadata": {},
   "source": [
    "In order to upload data to a FireCloud workspace we need two files, named `participant.tsv` and `sample.tsv`. The first holds a unique list of donor UUIDs, and the second a the same donor UUIDs with their corresponding specimen UUIDs. The values in these two columns of the table are the composite primary key. The third column holds cell-suspension UUIDs, followed by other columns which I copied from the manifest downloaded from the Explorer of the HCA browser."
   ]
  },
  {
   "cell_type": "code",
   "execution_count": 6,
   "metadata": {},
   "outputs": [
    {
     "data": {
      "text/plain": [
       "True"
      ]
     },
     "execution_count": 6,
     "metadata": {},
     "output_type": "execute_result"
    }
   ],
   "source": [
    "bag_name = 'hca_manifest'  # the name of the BDBag\n",
    "if os.path.isdir(bag_name):\n",
    "    rmtree(bag_name)\n",
    "os.mkdir(bag_name)\n",
    "bag = bagit.make_bag('hca_manifest/', {'info': 'some info'})  # use bagit module to create a bag instance\n",
    "files = list(filter(lambda x: x.endswith('.tsv'), os.listdir()))  # create list of files to copied into the data directory of the bag\n",
    "for file in files:\n",
    "    copy(file, 'hca_manifest/data')\n",
    "['participant.tsv', 'sample.tsv'] == os.listdir('hca_manifest/data')  # sanity check"
   ]
  },
  {
   "cell_type": "code",
   "execution_count": 7,
   "metadata": {},
   "outputs": [],
   "source": [
    "bag.save(manifests=True)  # save bag"
   ]
  },
  {
   "cell_type": "code",
   "execution_count": 8,
   "metadata": {},
   "outputs": [
    {
     "data": {
      "text/plain": [
       "True"
      ]
     },
     "execution_count": 8,
     "metadata": {},
     "output_type": "execute_result"
    }
   ],
   "source": [
    "bag.is_valid()  # sanity check"
   ]
  },
  {
   "cell_type": "code",
   "execution_count": null,
   "metadata": {},
   "outputs": [],
   "source": []
  }
 ],
 "metadata": {
  "kernelspec": {
   "display_name": ".venv",
   "language": "python",
   "name": ".venv"
  },
  "language_info": {
   "codemirror_mode": {
    "name": "ipython",
    "version": 3
   },
   "file_extension": ".py",
   "mimetype": "text/x-python",
   "name": "python",
   "nbconvert_exporter": "python",
   "pygments_lexer": "ipython3",
   "version": "3.6.6"
  }
 },
 "nbformat": 4,
 "nbformat_minor": 2
}
